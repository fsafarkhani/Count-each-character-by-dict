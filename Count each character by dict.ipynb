{
 "cells": [
  {
   "cell_type": "code",
   "execution_count": 2,
   "metadata": {},
   "outputs": [
    {
     "name": "stdout",
     "output_type": "stream",
     "text": [
      "f appeared 3 times\n",
      "e appeared 6 times\n",
      "r appeared 3 times\n",
      "s appeared 3 times\n",
      "h appeared 4 times\n",
      "t appeared 4 times\n",
      "  appeared 7 times\n",
      "i appeared 2 times\n",
      "a appeared 1 times\n",
      "n appeared 4 times\n",
      "d appeared 1 times\n",
      "g appeared 1 times\n",
      "p appeared 1 times\n",
      "y appeared 1 times\n",
      "o appeared 2 times\n",
      "u appeared 1 times\n"
     ]
    }
   ],
   "source": [
    "string =\"fereshteh is here and testing python for fun\"\n",
    "counter = dict()\n",
    "\n",
    "for letter in string:\n",
    "    if letter in counter:\n",
    "        counter[letter]+=1\n",
    "    else:\n",
    "        counter[letter]=1\n",
    "for this in list(counter.keys()):\n",
    "    print(\"%s appeared %s times\" % (this, counter[this]))"
   ]
  }
 ],
 "metadata": {
  "interpreter": {
   "hash": "b3ba2566441a7c06988d0923437866b63cedc61552a5af99d1f4fb67d367b25f"
  },
  "kernelspec": {
   "display_name": "Python 3.8.8 64-bit ('base': conda)",
   "language": "python",
   "name": "python3"
  },
  "language_info": {
   "codemirror_mode": {
    "name": "ipython",
    "version": 3
   },
   "file_extension": ".py",
   "mimetype": "text/x-python",
   "name": "python",
   "nbconvert_exporter": "python",
   "pygments_lexer": "ipython3",
   "version": "3.8.8"
  },
  "orig_nbformat": 4
 },
 "nbformat": 4,
 "nbformat_minor": 2
}
